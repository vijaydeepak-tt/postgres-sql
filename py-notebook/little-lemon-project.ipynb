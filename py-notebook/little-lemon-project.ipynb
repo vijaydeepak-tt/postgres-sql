{
 "cells": [
  {
   "cell_type": "code",
   "execution_count": 46,
   "id": "1856986c-471f-4637-8627-cb23b52b0cda",
   "metadata": {},
   "outputs": [],
   "source": [
    "import mysql.connector as connector"
   ]
  },
  {
   "cell_type": "code",
   "execution_count": 2,
   "id": "b337d330-d213-4216-874a-c7690cb1d236",
   "metadata": {},
   "outputs": [],
   "source": [
    "connection = connector.connect(user=\"root\", password=\"OJTJYUyEd5@V0Nq\")"
   ]
  },
  {
   "cell_type": "code",
   "execution_count": 3,
   "id": "f225d948-d213-45f3-831c-ae07459d9de2",
   "metadata": {},
   "outputs": [],
   "source": [
    "cursor = connection.cursor()"
   ]
  },
  {
   "cell_type": "code",
   "execution_count": 4,
   "id": "bc6937ef-b32e-4d2b-9d8d-a3c298fc198a",
   "metadata": {},
   "outputs": [],
   "source": [
    "cursor.execute(\"CREATE DATABASE little_lemon_db\") "
   ]
  },
  {
   "cell_type": "code",
   "execution_count": 5,
   "id": "ef0244cc-44ec-4d4f-9ff2-3070a56e18a0",
   "metadata": {},
   "outputs": [],
   "source": [
    "cursor.execute(\"USE little_lemon_db\")"
   ]
  },
  {
   "cell_type": "code",
   "execution_count": 8,
   "id": "762b4ced-5095-4901-95bd-d47a7ca8b9aa",
   "metadata": {},
   "outputs": [],
   "source": [
    "#MenuItems table\n",
    "create_menuitem_table = \"\"\"CREATE TABLE MenuItems (\n",
    "ItemID INT AUTO_INCREMENT,\n",
    "Name VARCHAR(200),\n",
    "Type VARCHAR(100),\n",
    "Price INT,\n",
    "PRIMARY KEY (ItemID)\n",
    ");\"\"\""
   ]
  },
  {
   "cell_type": "code",
   "execution_count": 9,
   "id": "00b29ac9-2efe-4092-8b78-930db8510b57",
   "metadata": {},
   "outputs": [],
   "source": [
    "create_menu_table = \"\"\"CREATE TABLE Menus (\n",
    "MenuID INT,\n",
    "ItemID INT,\n",
    "Cuisine VARCHAR(100),\n",
    "PRIMARY KEY (MenuID,ItemID)\n",
    ");\"\"\""
   ]
  },
  {
   "cell_type": "code",
   "execution_count": 21,
   "id": "d85bdd99-76a2-487b-aba0-6cd7ea746d3b",
   "metadata": {},
   "outputs": [],
   "source": [
    "Create_booking_table = \"\"\"CREATE TABLE Bookings (\n",
    "BookingID INT AUTO_INCREMENT,\n",
    "TableNo INT,\n",
    "GuestFirstName VARCHAR(100) NOT NULL,\n",
    "GuestLastName VARCHAR(100) NOT NULL,\n",
    "BookingSlot TIME NOT NULL,\n",
    "EmployeeID INT,\n",
    "PRIMARY KEY (BookingID)\n",
    ");\"\"\""
   ]
  },
  {
   "cell_type": "code",
   "execution_count": 18,
   "id": "9fc7c7ed-f4a0-4700-8c10-e699a4587a0f",
   "metadata": {},
   "outputs": [],
   "source": [
    "create_orders_table = \"\"\"CREATE TABLE Orders (\n",
    "OrderID INT,\n",
    "TableNo INT,\n",
    "MenuID INT,\n",
    "BookingID INT,\n",
    "BillAmount INT,\n",
    "Quantity INT,\n",
    "PRIMARY KEY (OrderID,TableNo)\n",
    ");\"\"\""
   ]
  },
  {
   "cell_type": "code",
   "execution_count": 19,
   "id": "f6da596b-cc78-4b9c-bba2-b9da4237d279",
   "metadata": {},
   "outputs": [],
   "source": [
    "create_employees_table = \"\"\"CREATE TABLE Employees (\n",
    "EmployeeID INT AUTO_INCREMENT PRIMARY KEY,\n",
    "Name VARCHAR (255),\n",
    "Role VARCHAR (100),\n",
    "Address VARCHAR (255),\n",
    "Contact_Number INT,\n",
    "Email VARCHAR (255),\n",
    "Annual_Salary VARCHAR (100)\n",
    ");\"\"\""
   ]
  },
  {
   "cell_type": "code",
   "execution_count": 13,
   "id": "a6917453-a2e3-41cf-87db-436711257853",
   "metadata": {},
   "outputs": [],
   "source": [
    "# Create MenuItems table\n",
    "cursor.execute(create_menuitem_table)"
   ]
  },
  {
   "cell_type": "code",
   "execution_count": 14,
   "id": "7615f4dd-ef45-4885-bb99-a142350467a7",
   "metadata": {},
   "outputs": [],
   "source": [
    "# Create Menu table\n",
    "cursor.execute(create_menu_table)"
   ]
  },
  {
   "cell_type": "code",
   "execution_count": 23,
   "id": "b6820e71-51fc-4863-b084-bd23ab5ddaf4",
   "metadata": {},
   "outputs": [],
   "source": [
    "# Create Bookings table\n",
    "cursor.execute(Create_booking_table)"
   ]
  },
  {
   "cell_type": "code",
   "execution_count": 24,
   "id": "2bfa77c1-1a09-4d00-aca9-ffd2152fb827",
   "metadata": {},
   "outputs": [],
   "source": [
    "# Create Orders table\n",
    "cursor.execute(create_orders_table)"
   ]
  },
  {
   "cell_type": "code",
   "execution_count": 25,
   "id": "6ecb4089-c976-4f28-9623-d18f4f9d7ee0",
   "metadata": {},
   "outputs": [],
   "source": [
    "# Create Employees table\n",
    "cursor.execute(create_employees_table)"
   ]
  },
  {
   "cell_type": "code",
   "execution_count": 29,
   "id": "8a3c0daf-3776-429b-9b23-18d1283480b6",
   "metadata": {},
   "outputs": [],
   "source": [
    "#*******************************************************#\n",
    "# Insert query to populate \"MenuItems\" table:\n",
    "#*******************************************************#\n",
    "insert_menuitems=\"\"\"\n",
    "INSERT INTO MenuItems (ItemID, Name, Type, Price)\n",
    "VALUES\n",
    "(1, 'Olives','Starters',5),\n",
    "(2, 'Flatbread','Starters', 5),\n",
    "(3, 'Minestrone', 'Starters', 8),\n",
    "(4, 'Tomato bread','Starters', 8),\n",
    "(5, 'Falafel', 'Starters', 7),\n",
    "(6, 'Hummus', 'Starters', 5),\n",
    "(7, 'Greek salad', 'Main Courses', 15),\n",
    "(8, 'Bean soup', 'Main Courses', 12),\n",
    "(9, 'Pizza', 'Main Courses', 15),\n",
    "(10, 'Greek yoghurt','Desserts', 7),\n",
    "(11, 'Ice cream', 'Desserts', 6),\n",
    "(12, 'Cheesecake', 'Desserts', 4),\n",
    "(13, 'Athens White wine', 'Drinks', 25),\n",
    "(14, 'Corfu Red Wine', 'Drinks', 30),\n",
    "(15, 'Turkish Coffee', 'Drinks', 10),\n",
    "(16, 'Turkish Coffee', 'Drinks', 10),\n",
    "(17, 'Kabasa', 'Main Courses', 17);\"\"\""
   ]
  },
  {
   "cell_type": "code",
   "execution_count": 30,
   "id": "545281ae-9932-4999-8b8a-f0bf56d32a4f",
   "metadata": {},
   "outputs": [],
   "source": [
    "#*******************************************************#\n",
    "# Insert query to populate \"Menu\" table:\n",
    "#*******************************************************#\n",
    "insert_menu=\"\"\"\n",
    "INSERT INTO Menus (MenuID,ItemID,Cuisine)\n",
    "VALUES\n",
    "(1, 1, 'Greek'),\n",
    "(1, 7, 'Greek'),\n",
    "(1, 10, 'Greek'),\n",
    "(1, 13, 'Greek'),\n",
    "(2, 3, 'Italian'),\n",
    "(2, 9, 'Italian'),\n",
    "(2, 12, 'Italian'),\n",
    "(2, 15, 'Italian'),\n",
    "(3, 5, 'Turkish'),\n",
    "(3, 17, 'Turkish'),\n",
    "(3, 11, 'Turkish'),\n",
    "(3, 16, 'Turkish');\"\"\""
   ]
  },
  {
   "cell_type": "code",
   "execution_count": 31,
   "id": "474ac02d-1472-463a-aa35-0bcc0d8117c8",
   "metadata": {},
   "outputs": [],
   "source": [
    "#*******************************************************#\n",
    "# Insert query to populate \"Bookings\" table:\n",
    "#*******************************************************#\n",
    "insert_bookings=\"\"\"\n",
    "INSERT INTO Bookings (BookingID, TableNo, GuestFirstName, \n",
    "GuestLastName, BookingSlot, EmployeeID)\n",
    "VALUES\n",
    "(1, 12, 'Anna','Iversen','19:00:00',1),\n",
    "(2, 12, 'Joakim', 'Iversen', '19:00:00', 1),\n",
    "(3, 19, 'Vanessa', 'McCarthy', '15:00:00', 3),\n",
    "(4, 15, 'Marcos', 'Romero', '17:30:00', 4),\n",
    "(5, 5, 'Hiroki', 'Yamane', '18:30:00', 2),\n",
    "(6, 8, 'Diana', 'Pinto', '20:00:00', 5);\"\"\""
   ]
  },
  {
   "cell_type": "code",
   "execution_count": 32,
   "id": "093b5e54-7655-4d62-b8c4-0cefd6af8434",
   "metadata": {},
   "outputs": [],
   "source": [
    "#*******************************************************#\n",
    "# Insert query to populate \"Orders\" table:\n",
    "#*******************************************************#\n",
    "insert_orders=\"\"\"\n",
    "INSERT INTO Orders (OrderID, TableNo, MenuID, BookingID, Quantity, BillAmount)\n",
    "VALUES\n",
    "(1, 12, 1, 1, 2, 86),\n",
    "(2, 19, 2, 2, 1, 37),\n",
    "(3, 15, 2, 3, 1, 37),\n",
    "(4, 5, 3, 4, 1, 40),\n",
    "(5, 8, 1, 5, 1, 43);\"\"\""
   ]
  },
  {
   "cell_type": "code",
   "execution_count": 41,
   "id": "9852cd40-2586-4f65-8166-7a26e937ab9f",
   "metadata": {},
   "outputs": [],
   "source": [
    "#*******************************************************#\n",
    "# Insert query to populate \"Employees\" table:\n",
    "#*******************************************************#\n",
    "insert_employees = \"\"\"\n",
    "INSERT INTO employees (EmployeeID, Name, Role, Address, Contact_Number, Email, Annual_Salary) VALUES\n",
    "(01,'Mario Gollini','Manager','724, Parsley Lane, Old Town, Chicago, IL',351258074,'Mario.g@littlelemon.com','$70,000'),\n",
    "(02,'Adrian Gollini','Assistant Manager','334, Dill Square, Lincoln Park, Chicago, IL',351474048,'Adrian.g@littlelemon.com','$65,000'),\n",
    "(03,'Giorgos Dioudis','Head Chef','879 Sage Street, West Loop, Chicago, IL',351970582,'Giorgos.d@littlelemon.com','$50,000'),\n",
    "(04,'Fatma Kaya','Assistant Chef','132  Bay Lane, Chicago, IL',351963569,'Fatma.k@littlelemon.com','$45,000'),\n",
    "(05,'Elena Salvai','Head Waiter','989 Thyme Square, EdgeWater, Chicago, IL',351074198,'Elena.s@littlelemon.com','$40,000'),\n",
    "(06,'John Millar','Receptionist','245 Dill Square, Lincoln Park, Chicago, IL',351584508,'John.m@littlelemon.com','$35,000');\"\"\""
   ]
  },
  {
   "cell_type": "code",
   "execution_count": null,
   "id": "534c4968-ec37-4e8c-96db-6a5878d50b65",
   "metadata": {},
   "outputs": [],
   "source": [
    "# Populate MenuItems table\n",
    "cursor.execute(insert_menuitems)\n",
    "connection.commit()"
   ]
  },
  {
   "cell_type": "code",
   "execution_count": 37,
   "id": "267aedd7-b996-4ee9-a23f-7db17f0259dc",
   "metadata": {},
   "outputs": [],
   "source": [
    "# Populate MenuItems table\n",
    "cursor.execute(insert_menu)\n",
    "connection.commit()"
   ]
  },
  {
   "cell_type": "code",
   "execution_count": 38,
   "id": "70498a56-344e-40e4-8e74-43f5a4bd6377",
   "metadata": {},
   "outputs": [],
   "source": [
    "# Populate Bookings table\n",
    "cursor.execute(insert_bookings)\n",
    "connection.commit()"
   ]
  },
  {
   "cell_type": "code",
   "execution_count": 39,
   "id": "50d5ea22-dc68-4729-82c9-1d711d12f1fe",
   "metadata": {},
   "outputs": [],
   "source": [
    "# Populate Orders table\n",
    "cursor.execute(insert_orders)\n",
    "connection.commit()"
   ]
  },
  {
   "cell_type": "code",
   "execution_count": 42,
   "id": "14031d28-609f-44ea-bdcd-94bc6d129deb",
   "metadata": {},
   "outputs": [],
   "source": [
    "# Populate Employees table\n",
    "cursor.execute(insert_employees)\n",
    "connection.commit()"
   ]
  },
  {
   "cell_type": "code",
   "execution_count": 48,
   "id": "544bdd10-c90f-47ac-8b5f-4873ec6af25e",
   "metadata": {},
   "outputs": [],
   "source": [
    "from mysql.connector.pooling import MySQLConnectionPool"
   ]
  },
  {
   "cell_type": "code",
   "execution_count": 88,
   "id": "f14f37f1-b869-43b4-a5bb-4a603fa7e720",
   "metadata": {},
   "outputs": [],
   "source": [
    "from mysql.connector import Error, PoolError"
   ]
  },
  {
   "cell_type": "code",
   "execution_count": 50,
   "id": "0bd7537e-a6d6-479e-973a-9bbfbc71fd94",
   "metadata": {},
   "outputs": [],
   "source": [
    "dbconfig = {\n",
    "    \"database\": \"little_lemon_db\",\n",
    "    \"user\": \"root\",\n",
    "    \"password\": \"OJTJYUyEd5@V0Nq\"\n",
    "}"
   ]
  },
  {
   "cell_type": "code",
   "execution_count": 82,
   "id": "3f616f62-0a44-4c4a-9a2c-e98145d02d38",
   "metadata": {},
   "outputs": [
    {
     "name": "stdout",
     "output_type": "stream",
     "text": [
      "Connection pool created successfully.\n"
     ]
    }
   ],
   "source": [
    "try:\n",
    "    # Create a connection pool\n",
    "    pool_a = MySQLConnectionPool(pool_name=\"pool_a\",\n",
    "                                         pool_size=2,\n",
    "                                         **dbconfig)\n",
    "    print(\"Connection pool created successfully.\")\n",
    "\n",
    "    connection = pool_a.get_connection()\n",
    "    \n",
    "    cursor = connection.cursor()\n",
    "\n",
    "except Error as e:\n",
    "    print(f\"Error creating connection pool: {e}\")"
   ]
  },
  {
   "cell_type": "code",
   "execution_count": 83,
   "id": "a9e9ee4c-1103-4ac9-9be9-912a0c313520",
   "metadata": {},
   "outputs": [],
   "source": [
    "peak_hours_sp = \"\"\"\n",
    "    CREATE PROCEDURE PeakHours()\n",
    "    BEGIN\n",
    "        SELECT HOUR(BookingSlot) AS booking_hour, COUNT(*) AS number_of_bookings\n",
    "        FROM Bookings\n",
    "        GROUP BY booking_hour\n",
    "        ORDER BY number_of_bookings DESC;\n",
    "    END;\n",
    "    \"\"\""
   ]
  },
  {
   "cell_type": "code",
   "execution_count": 84,
   "id": "f64e8763-cc04-4ea2-9bc8-223a6b2a20e5",
   "metadata": {},
   "outputs": [
    {
     "name": "stdout",
     "output_type": "stream",
     "text": [
      "Column Names: ['booking_hour', 'number_of_bookings']\n",
      "(19, 2)\n",
      "(15, 1)\n",
      "(17, 1)\n",
      "(18, 1)\n",
      "(20, 1)\n"
     ]
    }
   ],
   "source": [
    "try:\n",
    "    # Step two: Run the stored procedure query\n",
    "    cursor.execute(peak_hours_sp)\n",
    "    # Step three: Invoke callproc to call the stored procedure\n",
    "    cursor.callproc('PeakHours')\n",
    "    # Step four: Fetch the results into a variable called dataset\n",
    "    dataset = []\n",
    "    for result in cursor.stored_results():\n",
    "        dataset = result.fetchall()\n",
    "\n",
    "    # Step five: Extract the names of the columns\n",
    "    column_names = [column[0] for column in result.description]\n",
    "\n",
    "    # Step six: Print the names of the columns\n",
    "    print(\"Column Names:\", column_names)\n",
    "\n",
    "    # Step seven: Print the sorted data using a for loop\n",
    "    for row in dataset:\n",
    "        print(row)\n",
    "\n",
    "except Error as e:\n",
    "    print(f\"Error: {e}\")"
   ]
  },
  {
   "cell_type": "code",
   "execution_count": 85,
   "id": "6e37e07c-47c8-4a87-9d4f-283aaa5d616e",
   "metadata": {},
   "outputs": [],
   "source": [
    "guest_status_sp = \"\"\"\n",
    "    CREATE PROCEDURE GuestStatus()\n",
    "    BEGIN\n",
    "        SELECT \n",
    "            CONCAT(b.GuestFirstName, ' ', b.GuestLastName) AS GuestName,\n",
    "            CASE \n",
    "                WHEN e.Role IN ('Manager', 'Assistant Manager') THEN 'Ready to pay'\n",
    "                WHEN e.Role = 'Head Chef' THEN 'Ready to serve'\n",
    "                WHEN e.Role = 'Assistant Chef' THEN 'Preparing Order'\n",
    "                WHEN e.Role = 'Head Waiter' THEN 'Order served'\n",
    "                ELSE 'Unknown Status'\n",
    "            END AS OrderStatus\n",
    "        FROM \n",
    "            Bookings b\n",
    "        LEFT JOIN \n",
    "            Employees e ON b.EmployeeID = e.EmployeeID;\n",
    "    END;\n",
    "    \"\"\""
   ]
  },
  {
   "cell_type": "code",
   "execution_count": 86,
   "id": "347adf30-31cc-4409-90e4-ded08bab6a20",
   "metadata": {},
   "outputs": [
    {
     "name": "stdout",
     "output_type": "stream",
     "text": [
      "Column Names: ['GuestName', 'OrderStatus']\n",
      "('Anna Iversen', 'Ready to pay')\n",
      "('Joakim Iversen', 'Ready to pay')\n",
      "('Vanessa McCarthy', 'Ready to serve')\n",
      "('Marcos Romero', 'Preparing Order')\n",
      "('Hiroki Yamane', 'Ready to pay')\n",
      "('Diana Pinto', 'Order served')\n"
     ]
    }
   ],
   "source": [
    "try:\n",
    "    # Step five: Run the stored procedure query by invoking execute module on the cursor.\n",
    "    cursor.execute(guest_status_sp)\n",
    "    \n",
    "    # Step six: Invoke callproc to call the stored procedure\n",
    "    cursor.callproc('GuestStatus')\n",
    "\n",
    "    # Step seven: Fetch the results into a variable called dataset\n",
    "    dataset = []\n",
    "    for result in cursor.stored_results():\n",
    "        dataset = result.fetchall()\n",
    "\n",
    "    # Step eight: Extract the names of the columns\n",
    "    column_names = [column[0] for column in result.description]\n",
    "\n",
    "    # Step nine: Print the names of the columns\n",
    "    print(\"Column Names:\", column_names)\n",
    "\n",
    "    # Step ten: Print the sorted data using a for loop\n",
    "    for row in dataset:\n",
    "        print(row)\n",
    "\n",
    "except Error as e:\n",
    "    print(f\"Error: {e}\")\n",
    "\n",
    "finally:\n",
    "    # Step eleven: Close the cursor and connection when done\n",
    "    if cursor:\n",
    "        cursor.close()\n",
    "    if connection:\n",
    "        connection.close()  # This returns the connection to the pool"
   ]
  },
  {
   "cell_type": "code",
   "execution_count": 87,
   "id": "f0b7f07d-1126-4d26-b50b-16a5c155ae64",
   "metadata": {},
   "outputs": [
    {
     "name": "stdout",
     "output_type": "stream",
     "text": [
      "Connection pool 'pool_b' created successfully.\n"
     ]
    }
   ],
   "source": [
    "try:\n",
    "    # Establish a connection pool named pool_b with two connections\n",
    "    pool_b = pooling.MySQLConnectionPool(\n",
    "        pool_name=\"pool_b\",\n",
    "        pool_size=2,  # Define the number of connections in the pool\n",
    "        **dbconfig  # Unpack dbconfig to pass the configurations\n",
    "    )\n",
    "    print(\"Connection pool 'pool_b' created successfully.\")\n",
    "\n",
    "except Error as e:\n",
    "    print(f\"Error: Could not create connection pool 'pool_b'. Details: {e}\")"
   ]
  },
  {
   "cell_type": "code",
   "execution_count": 89,
   "id": "4c822a6c-a15d-4fcf-82aa-8ceeefb58b86",
   "metadata": {},
   "outputs": [],
   "source": [
    "# Data for each guest booking\n",
    "guest_bookings = [\n",
    "    (8, \"Anees\", \"Java\", \"18:00\", 6),  # Guest 1\n",
    "    (5, \"Bald\", \"Vin\", \"19:00\", 6),    # Guest 2\n",
    "    (12, \"Jay\", \"Kon\", \"19:30\", 6)     # Guest 3\n",
    "]"
   ]
  },
  {
   "cell_type": "code",
   "execution_count": 90,
   "id": "348c0a24-21e0-4d43-a6ee-d06ea107852e",
   "metadata": {},
   "outputs": [],
   "source": [
    "# Store connections in a list to manage them dynamically\n",
    "connections = []"
   ]
  },
  {
   "cell_type": "code",
   "execution_count": 91,
   "id": "290a1371-569a-4487-b9ab-68b117287c1a",
   "metadata": {},
   "outputs": [
    {
     "name": "stdout",
     "output_type": "stream",
     "text": [
      "Booking for Guest 1 added successfully.\n",
      "Booking for Guest 2 added successfully.\n",
      "PoolError: Could not obtain a connection for Guest 3. Details: Failed getting connection; pool exhausted\n",
      "Connection 1 returned to the pool.\n",
      "Connection 2 returned to the pool.\n"
     ]
    }
   ],
   "source": [
    "try:\n",
    "    for i, booking in enumerate(guest_bookings):\n",
    "        try:\n",
    "            # Attempt to get a connection from the pool\n",
    "            connection = pool_b.get_connection()\n",
    "            connections.append(connection)  # Store the connection for later use\n",
    "            \n",
    "            # Create a cursor and insert the booking\n",
    "            cursor = connection.cursor()\n",
    "            insert_booking_query = \"\"\"\n",
    "            INSERT INTO Bookings (TableNo, GuestFirstName, GuestLastName, BookingSlot, EmployeeID)\n",
    "            VALUES (%s, %s, %s, %s, %s)\n",
    "            \"\"\"\n",
    "            cursor.execute(insert_booking_query, booking)\n",
    "            connection.commit()  # Commit the transaction\n",
    "            \n",
    "            print(f\"Booking for Guest {i + 1} added successfully.\")\n",
    "            cursor.close()  # Close the cursor after the transaction\n",
    "            \n",
    "        except PoolError as e:\n",
    "            print(f\"PoolError: Could not obtain a connection for Guest {i + 1}. Details: {e}\")\n",
    "            break  # Exit loop if no more connections are available\n",
    "\n",
    "except Error as e:\n",
    "    print(\"Error: Could not complete booking. Details:\", e)\n",
    "\n",
    "finally:\n",
    "    # Return each connection to the pool safely\n",
    "    for i, connection in enumerate(connections):\n",
    "        try:\n",
    "            connection.close()\n",
    "            print(f\"Connection {i + 1} returned to the pool.\")\n",
    "        except PoolError as e:\n",
    "            print(\"Error: Attempted to return too many connections to the pool. Details:\", e)"
   ]
  },
  {
   "cell_type": "code",
   "execution_count": 92,
   "id": "62843be6-a58e-4054-9446-b21f4141592d",
   "metadata": {},
   "outputs": [],
   "source": [
    "try:\n",
    "    # Obtain a connection from the pool\n",
    "    connection = pool_b.get_connection()\n",
    "    cursor = connection.cursor()\n",
    "\n",
    "except Error as e:\n",
    "    print(\"Error while fetching data:\", e)"
   ]
  },
  {
   "cell_type": "code",
   "execution_count": 96,
   "id": "9cf4f51a-9215-4c3c-a4ab-20d7e989d281",
   "metadata": {},
   "outputs": [
    {
     "name": "stdout",
     "output_type": "stream",
     "text": [
      "Manager Name and EmployeeID: ('Mario Gollini', 1)\n"
     ]
    }
   ],
   "source": [
    "# Query 1: The name and EmployeeID of the Little Lemon manager\n",
    "manager_query = \"\"\"\n",
    "SELECT name AS ManagerName, EmployeeID\n",
    "FROM Employees\n",
    "WHERE Role = 'Manager';\n",
    "\"\"\"\n",
    "cursor.execute(manager_query)\n",
    "manager_data = cursor.fetchone()\n",
    "print(\"Manager Name and EmployeeID:\", manager_data)"
   ]
  },
  {
   "cell_type": "code",
   "execution_count": 98,
   "id": "b22f2a00-f8b8-4fa1-a81d-01d210390429",
   "metadata": {},
   "outputs": [
    {
     "name": "stdout",
     "output_type": "stream",
     "text": [
      "Employee with Highest Salary: ('Mario Gollini', 'Manager')\n"
     ]
    }
   ],
   "source": [
    "# Query 2: The name and role of the employee who receives the highest salary\n",
    "highest_salary_query = \"\"\"\n",
    "SELECT name AS EmployeeName, Role\n",
    "FROM Employees\n",
    "ORDER BY Annual_Salary DESC\n",
    "LIMIT 1;\n",
    "\"\"\"\n",
    "cursor.execute(highest_salary_query)\n",
    "highest_salary_data = cursor.fetchone()\n",
    "print(\"Employee with Highest Salary:\", highest_salary_data)"
   ]
  },
  {
   "cell_type": "code",
   "execution_count": 99,
   "id": "f18abb20-ee39-43e3-92da-b3589cc2dc39",
   "metadata": {},
   "outputs": [
    {
     "name": "stdout",
     "output_type": "stream",
     "text": [
      "Number of guests booked between 18:00 and 20:00: 6\n"
     ]
    }
   ],
   "source": [
    "# Query 3: Number of guests booked between 18:00 and 20:00\n",
    "guest_count_query = \"\"\"\n",
    "SELECT COUNT(*) AS GuestCount\n",
    "FROM Bookings\n",
    "WHERE BookingSlot BETWEEN '18:00:00' AND '20:00:00';\n",
    "\"\"\"\n",
    "cursor.execute(guest_count_query)\n",
    "guest_count_data = cursor.fetchone()\n",
    "print(\"Number of guests booked between 18:00 and 20:00:\", guest_count_data[0])"
   ]
  },
  {
   "cell_type": "code",
   "execution_count": 101,
   "id": "6fb89b55-c6ed-4102-8cc1-cb72d2dfa010",
   "metadata": {},
   "outputs": [
    {
     "name": "stdout",
     "output_type": "stream",
     "text": [
      "Guests waiting to be seated (sorted by BookingSlot):\n",
      "('Vanessa McCarthy', 3)\n",
      "('Marcos Romero', 4)\n",
      "('Anees Java', 7)\n",
      "('Hiroki Yamane', 5)\n",
      "('Anna Iversen', 1)\n",
      "('Joakim Iversen', 2)\n",
      "('Bald Vin', 8)\n",
      "('Diana Pinto', 6)\n"
     ]
    }
   ],
   "source": [
    "# Query 4: Full name and BookingID of all guests waiting to be seated with the receptionist\n",
    "# Sorted by BookingSlot\n",
    "waiting_guests_query = \"\"\"\n",
    "SELECT CONCAT(GuestFirstName, ' ', GuestLastName) AS GuestName, BookingID\n",
    "FROM Bookings\n",
    "ORDER BY BookingSlot;\n",
    "\"\"\"\n",
    "cursor.execute(waiting_guests_query)\n",
    "waiting_guests_data = cursor.fetchall()\n",
    "print(\"Guests waiting to be seated (sorted by BookingSlot):\")\n",
    "for guest in waiting_guests_data:\n",
    "    print(guest)"
   ]
  },
  {
   "cell_type": "code",
   "execution_count": 104,
   "id": "3da53620-6f21-43b3-940e-3044c4584829",
   "metadata": {},
   "outputs": [],
   "source": [
    "basic_sales_report_sp = \"\"\"\n",
    "    CREATE PROCEDURE BasicSalesReport()\n",
    "    BEGIN\n",
    "        SELECT \n",
    "            SUM(Quantity) AS TotalSales,\n",
    "            AVG(Quantity) AS AverageSale,\n",
    "            MIN(BillAmount) AS MinimumBill,\n",
    "            MAX(BillAmount) AS MaximumBill\n",
    "        FROM Orders;\n",
    "    END;\n",
    "\"\"\""
   ]
  },
  {
   "cell_type": "code",
   "execution_count": 105,
   "id": "35e9c344-c231-4d1f-abab-ac594b9e517b",
   "metadata": {},
   "outputs": [
    {
     "name": "stdout",
     "output_type": "stream",
     "text": [
      "Upcoming Bookings:\n",
      "[15:00:00]\n",
      "[Guest_name: Vanessa McCarthy]\n",
      "[Assigned to: Giorgos Dioudis [Head Chef]]\n",
      "\n",
      "[17:30:00]\n",
      "[Guest_name: Marcos Romero]\n",
      "[Assigned to: Fatma Kaya [Assistant Chef]]\n",
      "\n",
      "[18:00:00]\n",
      "[Guest_name: Anees Java]\n",
      "[Assigned to: John Millar [Receptionist]]\n",
      "\n"
     ]
    }
   ],
   "source": [
    "try:\n",
    "    # Step 1: Obtain a connection from the pool\n",
    "    connection = pool_b.get_connection()\n",
    "    \n",
    "    # Step 2: Create a buffered cursor\n",
    "    cursor = connection.cursor(buffered=True)\n",
    "    \n",
    "    # Step 3: Combine data from Bookings and Employees tables\n",
    "    upcoming_bookings_query = \"\"\"\n",
    "    SELECT \n",
    "        b.BookingSlot,\n",
    "        CONCAT(b.GuestFirstName, ' ', b.GuestLastName) AS GuestName,\n",
    "        e.name AS EmployeeName,\n",
    "        e.Role AS EmployeeRole\n",
    "    FROM \n",
    "        Bookings b\n",
    "    JOIN \n",
    "        Employees e ON b.EmployeeID = e.EmployeeID\n",
    "    ORDER BY \n",
    "        b.BookingSlot ASC\n",
    "    LIMIT 3;\n",
    "    \"\"\"\n",
    "    \n",
    "    cursor.execute(upcoming_bookings_query)\n",
    "    upcoming_bookings = cursor.fetchall()\n",
    "\n",
    "    # Step 4: Display the first three upcoming bookings\n",
    "    print(\"Upcoming Bookings:\")\n",
    "    for booking in upcoming_bookings:\n",
    "        booking_slot, guest_name, employee_name, employee_role = booking\n",
    "        print(f\"[{booking_slot}]\\n[Guest_name: {guest_name}]\\n[Assigned to: {employee_name} [{employee_role}]]\\n\")\n",
    "\n",
    "except Error as e:\n",
    "    print(\"Error while fetching upcoming bookings:\", e)\n",
    "\n",
    "finally:\n",
    "    # Step 5: Close the cursor and return the connection to the pool\n",
    "    if cursor:\n",
    "        cursor.close()\n",
    "    if connection:\n",
    "        connection.close()"
   ]
  },
  {
   "cell_type": "code",
   "execution_count": null,
   "id": "19cebe1d-f207-465c-b490-a7a9ae121396",
   "metadata": {},
   "outputs": [],
   "source": []
  }
 ],
 "metadata": {
  "kernelspec": {
   "display_name": "Python 3 (ipykernel)",
   "language": "python",
   "name": "python3"
  },
  "language_info": {
   "codemirror_mode": {
    "name": "ipython",
    "version": 3
   },
   "file_extension": ".py",
   "mimetype": "text/x-python",
   "name": "python",
   "nbconvert_exporter": "python",
   "pygments_lexer": "ipython3",
   "version": "3.12.3"
  }
 },
 "nbformat": 4,
 "nbformat_minor": 5
}

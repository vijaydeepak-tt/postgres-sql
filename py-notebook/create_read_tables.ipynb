{
 "cells": [
  {
   "cell_type": "code",
   "execution_count": 1,
   "id": "0e015a7e-cf89-4d89-936a-64d952604625",
   "metadata": {},
   "outputs": [],
   "source": [
    "import mysql.connector as connector"
   ]
  },
  {
   "cell_type": "code",
   "execution_count": 2,
   "id": "2a37e076-72a4-4088-99a9-bbc51c637638",
   "metadata": {},
   "outputs": [],
   "source": [
    "connection = connector.connect(user=\"root\", password=\"OJTJYUyEd5@V0Nq\")"
   ]
  },
  {
   "cell_type": "code",
   "execution_count": 3,
   "id": "a77f718e-c32f-4611-8fdb-0a52f9dbf050",
   "metadata": {},
   "outputs": [],
   "source": [
    "cursor = connection.cursor()"
   ]
  },
  {
   "cell_type": "code",
   "execution_count": 4,
   "id": "77cd28fc-ceea-4005-8374-5acf82418220",
   "metadata": {},
   "outputs": [],
   "source": [
    "use_database_query = \"\"\"USE little_lemon\"\"\""
   ]
  },
  {
   "cell_type": "code",
   "execution_count": 5,
   "id": "10e50c43-8f69-4197-abb5-d03c7bd266ac",
   "metadata": {},
   "outputs": [],
   "source": [
    "cursor.execute(use_database_query)"
   ]
  },
  {
   "cell_type": "code",
   "execution_count": 6,
   "id": "961fffd9-f40c-4120-936a-382b4ed637d3",
   "metadata": {},
   "outputs": [],
   "source": [
    "insert_query = \"\"\"\n",
    "INSERT INTO menuItems (Name, Type, Price)\n",
    "VALUES ('Fish fry', 'Sea food', 100)\n",
    "\"\"\""
   ]
  },
  {
   "cell_type": "code",
   "execution_count": 7,
   "id": "5d466589-48f6-48c4-ba8c-d7d898a4f533",
   "metadata": {},
   "outputs": [],
   "source": [
    "cursor.execute(insert_query)"
   ]
  },
  {
   "cell_type": "code",
   "execution_count": 8,
   "id": "a058f55c-10ac-4511-8a8c-ae7d4c745c1c",
   "metadata": {},
   "outputs": [],
   "source": [
    "connection.commit()"
   ]
  },
  {
   "cell_type": "code",
   "execution_count": 9,
   "id": "15925344-6f79-4876-b359-3ffbec058c62",
   "metadata": {},
   "outputs": [],
   "source": [
    "read_data_query = \"\"\"\n",
    "    SELECT * FROM menuItems\n",
    "\"\"\""
   ]
  },
  {
   "cell_type": "code",
   "execution_count": 10,
   "id": "26a7fd3f-dee9-42d6-9c26-846250c65b01",
   "metadata": {},
   "outputs": [],
   "source": [
    "cursor.execute(read_data_query)"
   ]
  },
  {
   "cell_type": "code",
   "execution_count": 11,
   "id": "3c55ec0d-7c82-493f-a4e9-951d4d46be93",
   "metadata": {},
   "outputs": [],
   "source": [
    "results = cursor.fetchall()"
   ]
  },
  {
   "cell_type": "code",
   "execution_count": null,
   "id": "b72d6f8f-992e-4784-a33e-1f10561351e5",
   "metadata": {},
   "outputs": [],
   "source": [
    "print(results)"
   ]
  },
  {
   "cell_type": "code",
   "execution_count": 14,
   "id": "ac5e1412-b3b7-423a-9b80-3310a08f4ea9",
   "metadata": {},
   "outputs": [],
   "source": [
    "columns=cursor.column_names"
   ]
  },
  {
   "cell_type": "code",
   "execution_count": null,
   "id": "43107c44-8985-4a46-aeb4-0de881f64cb5",
   "metadata": {},
   "outputs": [],
   "source": [
    "print(columns)"
   ]
  }
 ],
 "metadata": {
  "kernelspec": {
   "display_name": "Python 3",
   "language": "python",
   "name": "python3"
  },
  "language_info": {
   "codemirror_mode": {
    "name": "ipython",
    "version": 3
   },
   "file_extension": ".py",
   "mimetype": "text/x-python",
   "name": "python",
   "nbconvert_exporter": "python",
   "pygments_lexer": "ipython3",
   "version": "3.12.3"
  }
 },
 "nbformat": 4,
 "nbformat_minor": 5
}

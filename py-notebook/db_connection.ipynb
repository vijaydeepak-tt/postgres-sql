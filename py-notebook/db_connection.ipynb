{
 "cells": [
  {
   "cell_type": "code",
   "execution_count": 2,
   "id": "0e015a7e-cf89-4d89-936a-64d952604625",
   "metadata": {},
   "outputs": [],
   "source": [
    "import mysql.connector as connector"
   ]
  },
  {
   "cell_type": "code",
   "execution_count": 3,
   "id": "2a37e076-72a4-4088-99a9-bbc51c637638",
   "metadata": {},
   "outputs": [],
   "source": [
    "connection = connector.connect(user=\"root\", password=\"OJTJYUyEd5@V0Nq\")"
   ]
  },
  {
   "cell_type": "code",
   "execution_count": 4,
   "id": "a77f718e-c32f-4611-8fdb-0a52f9dbf050",
   "metadata": {},
   "outputs": [],
   "source": [
    "cursor = connection.cursor()"
   ]
  },
  {
   "cell_type": "code",
   "execution_count": 5,
   "id": "28f96fef-345f-4c46-a548-82ca6742fd42",
   "metadata": {},
   "outputs": [],
   "source": [
    "create_database_query = \"\"\"CREATE DATABASE little_lemon\"\"\""
   ]
  },
  {
   "cell_type": "code",
   "execution_count": 6,
   "id": "ed901429-32e1-4c4c-8368-72998541df4a",
   "metadata": {},
   "outputs": [],
   "source": [
    "cursor.execute(create_database_query)"
   ]
  },
  {
   "cell_type": "code",
   "execution_count": 7,
   "id": "77cd28fc-ceea-4005-8374-5acf82418220",
   "metadata": {},
   "outputs": [],
   "source": [
    "use_database_query = \"\"\"USE little_lemon\"\"\""
   ]
  },
  {
   "cell_type": "code",
   "execution_count": 8,
   "id": "10e50c43-8f69-4197-abb5-d03c7bd266ac",
   "metadata": {},
   "outputs": [],
   "source": [
    "cursor.execute(use_database_query)"
   ]
  },
  {
   "cell_type": "code",
   "execution_count": 9,
   "id": "8950f7d2-2dc9-4a0b-92cf-45c32439a11e",
   "metadata": {},
   "outputs": [],
   "source": [
    "create_table_query = \"\"\"\n",
    "CREATE TABLE menuItems(\n",
    "ItemID INT AUTO_INCREMENT,\n",
    "Name VARCHAR(200),\n",
    "Type VARCHAR(100),\n",
    "Price INT,\n",
    "PRIMARY KEY(ItemID)\n",
    ")\n",
    "\"\"\""
   ]
  },
  {
   "cell_type": "code",
   "execution_count": 10,
   "id": "414f2f96-1c82-4664-86a6-dfd08bae698f",
   "metadata": {},
   "outputs": [],
   "source": [
    "cursor.execute(create_table_query)"
   ]
  },
  {
   "cell_type": "code",
   "execution_count": 11,
   "id": "52dd4520-15d4-4e1b-812b-8421c9152075",
   "metadata": {},
   "outputs": [],
   "source": [
    "cursor.execute(\"\"\"\n",
    "SELECT ADDTIME(\"1:00:00\",\"-1:00:00\")\n",
    "\"\"\"\n",
    ")\n",
    "result=cursor.fetchall() "
   ]
  },
  {
   "cell_type": "code",
   "execution_count": 12,
   "id": "50633756-aded-4d56-a9c3-dcaffef3fe64",
   "metadata": {},
   "outputs": [
    {
     "name": "stdout",
     "output_type": "stream",
     "text": [
      "[('00:00:00',)]\n"
     ]
    }
   ],
   "source": [
    "print(result)"
   ]
  },
  {
   "cell_type": "code",
   "execution_count": null,
   "id": "5801ef2c-611d-4cf0-8e95-e5b7e91ac166",
   "metadata": {},
   "outputs": [],
   "source": []
  }
 ],
 "metadata": {
  "kernelspec": {
   "display_name": "Python 3 (ipykernel)",
   "language": "python",
   "name": "python3"
  },
  "language_info": {
   "codemirror_mode": {
    "name": "ipython",
    "version": 3
   },
   "file_extension": ".py",
   "mimetype": "text/x-python",
   "name": "python",
   "nbconvert_exporter": "python",
   "pygments_lexer": "ipython3",
   "version": "3.12.3"
  }
 },
 "nbformat": 4,
 "nbformat_minor": 5
}
